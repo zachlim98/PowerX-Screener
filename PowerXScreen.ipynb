{
 "metadata": {
  "language_info": {
   "codemirror_mode": {
    "name": "ipython",
    "version": 3
   },
   "file_extension": ".py",
   "mimetype": "text/x-python",
   "name": "python",
   "nbconvert_exporter": "python",
   "pygments_lexer": "ipython3",
   "version": "3.8.6-final"
  },
  "orig_nbformat": 2,
  "kernelspec": {
   "name": "python3",
   "display_name": "Python 3.8.6 32-bit",
   "metadata": {
    "interpreter": {
     "hash": "a080e381fb8d998a55638006a69e5958108d914a9dc610571a96145ee1400b24"
    }
   }
  }
 },
 "nbformat": 4,
 "nbformat_minor": 2,
 "cells": [
  {
   "cell_type": "code",
   "execution_count": 1,
   "metadata": {},
   "outputs": [],
   "source": [
    "import os\n",
    "import pandas as pd\n",
    "import yfinance as yf\n",
    "from ta.momentum import RSIIndicator, stoch\n",
    "from ta.trend import MACD as md\n",
    "from ta.volatility import AverageTrueRange as atr\n",
    "from datetime import datetime"
   ]
  },
  {
   "source": [
    "# Technical Scanner"
   ],
   "cell_type": "markdown",
   "metadata": {}
  },
  {
   "cell_type": "code",
   "execution_count": 2,
   "metadata": {
    "tags": []
   },
   "outputs": [
    {
     "output_type": "stream",
     "name": "stdout",
     "text": [
      "BIG\n",
      "[*********************100%***********************]  1 of 1 completed\n",
      "NVDA\n",
      "[*********************100%***********************]  1 of 1 completed\n",
      "AMD\n",
      "[*********************100%***********************]  1 of 1 completed\n",
      "DHI\n",
      "[*********************100%***********************]  1 of 1 completed\n",
      "VEEV\n",
      "[*********************100%***********************]  1 of 1 completed\n",
      "PFSI\n",
      "[*********************100%***********************]  1 of 1 completed\n",
      "ADBE\n",
      "[*********************100%***********************]  1 of 1 completed\n",
      "LOW\n",
      "[*********************100%***********************]  1 of 1 completed\n",
      "WST\n",
      "[*********************100%***********************]  1 of 1 completed\n",
      "PLMR\n",
      "[*********************100%***********************]  1 of 1 completed\n",
      "ENTG\n",
      "[*********************100%***********************]  1 of 1 completed\n",
      "STMP\n",
      "[*********************100%***********************]  1 of 1 completed\n",
      "AMZN\n",
      "[*********************100%***********************]  1 of 1 completed\n",
      "PYPL\n",
      "[*********************100%***********************]  1 of 1 completed\n",
      "CDNS\n",
      "[*********************100%***********************]  1 of 1 completed\n",
      "NFLX\n",
      "[*********************100%***********************]  1 of 1 completed\n",
      "DG\n",
      "[*********************100%***********************]  1 of 1 completed\n",
      "TSCO\n",
      "[*********************100%***********************]  1 of 1 completed\n",
      "EBS\n",
      "[*********************100%***********************]  1 of 1 completed\n",
      "FIZZ\n",
      "[*********************100%***********************]  1 of 1 completed\n",
      "SNPS\n",
      "[*********************100%***********************]  1 of 1 completed\n",
      "WDAY\n",
      "[*********************100%***********************]  1 of 1 completed\n",
      "MRVL\n",
      "[*********************100%***********************]  1 of 1 completed\n",
      "IPHI\n",
      "[*********************100%***********************]  1 of 1 completed\n",
      "PKI\n",
      "[*********************100%***********************]  1 of 1 completed\n",
      "KL\n",
      "[*********************100%***********************]  1 of 1 completed\n",
      "VRTX\n",
      "[*********************100%***********************]  1 of 1 completed\n",
      "TMO\n",
      "[*********************100%***********************]  1 of 1 completed\n",
      "BABA\n",
      "[*********************100%***********************]  1 of 1 completed\n",
      "XP\n",
      "[*********************100%***********************]  1 of 1 completed\n",
      "MSFT\n",
      "[*********************100%***********************]  1 of 1 completed\n",
      "TER\n",
      "[*********************100%***********************]  1 of 1 completed\n",
      "VIRT\n",
      "[*********************100%***********************]  1 of 1 completed\n",
      "NDAQ\n",
      "[*********************100%***********************]  1 of 1 completed\n",
      "ASML\n",
      "[*********************100%***********************]  1 of 1 completed\n",
      "ATVI\n",
      "[*********************100%***********************]  1 of 1 completed\n",
      "BERY\n",
      "[*********************100%***********************]  1 of 1 completed\n",
      "AKAM\n",
      "[*********************100%***********************]  1 of 1 completed\n",
      "FUTU\n",
      "[*********************100%***********************]  1 of 1 completed\n",
      "APPS\n",
      "[*********************100%***********************]  1 of 1 completed\n",
      "IIPR\n",
      "[*********************100%***********************]  1 of 1 completed\n",
      "INTU\n",
      "[*********************100%***********************]  1 of 1 completed\n",
      "SCPL\n",
      "[*********************100%***********************]  1 of 1 completed\n",
      "IR\n",
      "[*********************100%***********************]  1 of 1 completed\n",
      "PANW\n",
      "[*********************100%***********************]  1 of 1 completed\n",
      "BMY\n",
      "[*********************100%***********************]  1 of 1 completed\n",
      "FTNT\n",
      "[*********************100%***********************]  1 of 1 completed\n",
      "ALXN\n",
      "[*********************100%***********************]  1 of 1 completed\n",
      "PETS\n",
      "[*********************100%***********************]  1 of 1 completed\n",
      "HZNP\n",
      "[*********************100%***********************]  1 of 1 completed\n"
     ]
    },
    {
     "output_type": "error",
     "ename": "NameError",
     "evalue": "name 'sell' is not defined",
     "traceback": [
      "\u001b[1;31m---------------------------------------------------------------------------\u001b[0m",
      "\u001b[1;31mNameError\u001b[0m                                 Traceback (most recent call last)",
      "\u001b[1;32m<ipython-input-2-458ad8907c4b>\u001b[0m in \u001b[0;36m<module>\u001b[1;34m\u001b[0m\n\u001b[0;32m     98\u001b[0m \u001b[1;33m\u001b[0m\u001b[0m\n\u001b[0;32m     99\u001b[0m \u001b[0mbuys\u001b[0m\u001b[1;33m.\u001b[0m\u001b[0mto_csv\u001b[0m\u001b[1;33m(\u001b[0m\u001b[1;34m\"buys.csv\"\u001b[0m\u001b[1;33m)\u001b[0m\u001b[1;33m\u001b[0m\u001b[1;33m\u001b[0m\u001b[0m\n\u001b[1;32m--> 100\u001b[1;33m \u001b[0msell\u001b[0m\u001b[1;33m.\u001b[0m\u001b[0mto_csv\u001b[0m\u001b[1;33m(\u001b[0m\u001b[1;34m\"sells.csv\"\u001b[0m\u001b[1;33m)\u001b[0m\u001b[1;33m\u001b[0m\u001b[1;33m\u001b[0m\u001b[0m\n\u001b[0m\u001b[0;32m    101\u001b[0m \u001b[0moos\u001b[0m\u001b[1;33m.\u001b[0m\u001b[0mto_csv\u001b[0m\u001b[1;33m(\u001b[0m\u001b[1;34m\"oos.csv\"\u001b[0m\u001b[1;33m)\u001b[0m\u001b[1;33m\u001b[0m\u001b[1;33m\u001b[0m\u001b[0m\n",
      "\u001b[1;31mNameError\u001b[0m: name 'sell' is not defined"
     ]
    }
   ],
   "source": [
    "dataframes = {}\n",
    "buys = {}\n",
    "sells = {}\n",
    "buy_list = []\n",
    "buy_list_sl = []\n",
    "buy_list_tp = []\n",
    "sell_list = []\n",
    "sell_list_tp = []\n",
    "sell_list_sl = []\n",
    "buy_list_sq = []\n",
    "sell_list_sq = []\n",
    "buy_list_osq = []\n",
    "sell_list_osq = []\n",
    "on_squeeze = []\n",
    "outof_squeeze = []\n",
    "\n",
    "with open('ticker.csv') as f:\n",
    "    lines = f.read().splitlines()\n",
    "    for symbol in lines:\n",
    "        print(symbol)\n",
    "        data = yf.download(symbol, start=\"2020-01-01\", end=datetime.today().strftime('%Y-%m-%d'))\n",
    "        df = pd.DataFrame(data)\n",
    "\n",
    "        RSI = RSIIndicator(close=df['Close'], n=7)\n",
    "        df[\"RSI\"] = RSI.rsi()\n",
    "\n",
    "        Stochk = stoch(high=df[\"High\"],low=df[\"Low\"],close=df[\"Close\"]).rolling(window=3).mean()\n",
    "        df[\"Stochk\"] = Stochk\n",
    "\n",
    "        MACD = md(close=df['Close'])\n",
    "        df[\"MACD_diff\"] = MACD.macd_diff()\n",
    "\n",
    "        AvgTru = atr(high=df['High'],low=df['Low'],close=df['Close'],n=7)\n",
    "        df[\"ATR\"] = AvgTru.average_true_range()\n",
    "\n",
    "        df[\"Signal\"] = \"\"\n",
    "\n",
    "        df['20sma'] = df['Close'].rolling(window=20).mean()\n",
    "        df['stddev'] = df['Close'].rolling(window=20).std()\n",
    "        df['lower_band'] = df['20sma'] - (2 * df['stddev'])\n",
    "        df['upper_band'] = df['20sma'] + (2 * df['stddev'])\n",
    "\n",
    "        df['TR'] = abs(df['High'] - df['Low'])\n",
    "        df['ATR'] = df['TR'].rolling(window=20).mean()\n",
    "\n",
    "        df['lower_keltner'] = df['20sma'] - (df['ATR'] * 1.5)\n",
    "        df['upper_keltner'] = df['20sma'] + (df['ATR'] * 1.5)\n",
    "\n",
    "        def in_squeeze(df):\n",
    "            return df['lower_band'] > df['lower_keltner'] and df['upper_band'] < df['upper_keltner']\n",
    "\n",
    "        df['squeeze_on'] = df.apply(in_squeeze, axis=1)\n",
    "\n",
    "        if df[\"squeeze_on\"].iloc[-1]==True:\n",
    "            on_squeeze.append(symbol)\n",
    "\n",
    "        if (df[\"squeeze_on\"].iloc[-1]==True) and (df[\"squeeze_on\"].iloc[-2]==False):\n",
    "            outof_squeeze.append(symbol)\n",
    "\n",
    "        for i in range(0,len(df)):\n",
    "            if df[\"RSI\"].iloc[i] > 50 and df[\"Stochk\"][i] > 50 and df[\"MACD_diff\"][i] > 0:\n",
    "                df[\"Signal\"][i] = \"Buy\"\n",
    "            elif df[\"RSI\"].iloc[i] < 50 and df[\"Stochk\"][i] < 50 and df[\"MACD_diff\"][i] < 0:\n",
    "                df[\"Signal\"][i] = \"Sell\"\n",
    "            else:\n",
    "                df[\"Signal\"][i] = \"Neutral\"\n",
    "\n",
    "            if df[\"Signal\"].iloc[-1] == \"Buy\" and (df[\"Signal\"].iloc[-2] != \"Buy\"):\n",
    "                buy_list.append(symbol)\n",
    "                buy_list_sl.append(df[\"Close\"].iloc[-1]-(df[\"ATR\"].iloc[-1]*1.3))\n",
    "                buy_list_tp.append(df[\"Close\"].iloc[-1]+(df[\"ATR\"].iloc[-1]*2.2))\n",
    "                buy_list_sq.append(df['squeeze_on'].iloc[-1])\n",
    "            elif df[\"Signal\"].iloc[-1] == \"Sell\" and (df[\"Signal\"].iloc[-2] != \"Sell\"):\n",
    "                sell_list.append(symbol)\n",
    "                sell_list_sl.append(df[\"Close\"].iloc[-1]+(df[\"ATR\"].iloc[-1]*1.3))\n",
    "                sell_list_tp.append(df[\"Close\"].iloc[-1]-(df[\"ATR\"].iloc[-1]*2.2))\n",
    "                sell_list_sq.append(df['squeeze_on'].iloc[-1])\n",
    "            else:\n",
    "                continue\n",
    "\n",
    "        buys = pd.DataFrame({\n",
    "            \"Symbol\" : buy_list,\n",
    "            \"SL\" : buy_list_sl,\n",
    "            \"TP\" : buy_list_tp,\n",
    "            \"Squeeze\" : buy_list_sq\n",
    "        })\n",
    "\n",
    "        sells = pd.DataFrame({\n",
    "            \"Symbol\" : sell_list,\n",
    "            \"SL\" : sell_list_sl,\n",
    "            \"TP\" : sell_list_tp,\n",
    "            \"Squeeze\" : sell_list_sq\n",
    "        })\n",
    "\n",
    "        oos = pd.DataFrame({\n",
    "            \"Out of squeeze\" : outof_squeeze\n",
    "        })\n",
    "\n",
    "buys.to_csv(\"buys.csv\")\n",
    "sell.to_csv(\"sells.csv\")\n",
    "oos.to_csv(\"oos.csv\")"
   ]
  },
  {
   "cell_type": "code",
   "execution_count": 2,
   "metadata": {},
   "outputs": [],
   "source": [
    "on_squeeze = ['AMD', 'DHI', 'ENTG', 'KL', 'TMO', 'NDAQ', 'BERY', 'FUTU', 'SCPL', 'IR']"
   ]
  },
  {
   "cell_type": "code",
   "execution_count": 5,
   "metadata": {},
   "outputs": [
    {
     "output_type": "execute_result",
     "data": {
      "text/plain": [
       "  Symbol          SL          TP  Squeeze\n",
       "0   NFLX  513.039857  561.044075    False\n",
       "1     DG  206.999297  218.685795    False\n",
       "2     KL   39.911720   44.376319     True"
      ],
      "text/html": "<div>\n<style scoped>\n    .dataframe tbody tr th:only-of-type {\n        vertical-align: middle;\n    }\n\n    .dataframe tbody tr th {\n        vertical-align: top;\n    }\n\n    .dataframe thead th {\n        text-align: right;\n    }\n</style>\n<table border=\"1\" class=\"dataframe\">\n  <thead>\n    <tr style=\"text-align: right;\">\n      <th></th>\n      <th>Symbol</th>\n      <th>SL</th>\n      <th>TP</th>\n      <th>Squeeze</th>\n    </tr>\n  </thead>\n  <tbody>\n    <tr>\n      <th>0</th>\n      <td>NFLX</td>\n      <td>513.039857</td>\n      <td>561.044075</td>\n      <td>False</td>\n    </tr>\n    <tr>\n      <th>1</th>\n      <td>DG</td>\n      <td>206.999297</td>\n      <td>218.685795</td>\n      <td>False</td>\n    </tr>\n    <tr>\n      <th>2</th>\n      <td>KL</td>\n      <td>39.911720</td>\n      <td>44.376319</td>\n      <td>True</td>\n    </tr>\n  </tbody>\n</table>\n</div>"
     },
     "metadata": {},
     "execution_count": 5
    }
   ],
   "source": [
    "buys"
   ]
  },
  {
   "source": [
    "# Options Delta Identifier"
   ],
   "cell_type": "markdown",
   "metadata": {}
  },
  {
   "cell_type": "code",
   "execution_count": 17,
   "metadata": {},
   "outputs": [],
   "source": [
    "import tdameritrade as td\n",
    "\n",
    "client_id = \"DRSMU4TL964FO3QNBQHVL78X9SUPGGIL\"\n",
    "account_id = \"220535376\"\n",
    "refresh_token = \"9WBdSYb/o0eDYM6g9bQbdCOGFhWcg0ZloP5KfWdBWzeRNfRTqjnl6M9zzh4zr1oXzxk1EKIqzip77j7NqMcn160ZoHVBPOWmLMxiSpBaXVnBHcuk5VGBnNiPpFxbP5Ex1/nQx2nM3YvM/byNDpkI0zbRFvhsNMOClslJ+nyj2VGC167FHDTXIP3cLl1nQyd39WdWnafgXOIcVjZCOqGj+cIguNKv2NImj4OJSFF9BO2npMrbRyESGhHmTxPb3EMPPhdq18QDspBUfpeyVuO4Hwl7JnhbhUnZWRYSt0Gu0Phx6anlLkY641T54FngRvdHC9pobhSPTmSB9KOEL9IZjOTgNr0llWxzaTliuQdPsXYJizsjc42TkO9fc+YvGAyKm+oFYLbAqo1XZzODzi3lh2TW85eDbc+6MriMtmqSnMaRmB39cxwUnh5CGXj100MQuG4LYrgoVi/JHHvl8nshsQUyVECXgHrbWCaczm6Axpp0uQmOhwzJiv7v22TcHw7GbIH51GZjuImaWzcgQu5GTofWx04eTCBQxsT0Hvs0QPMmJiur59bBNntVYp25Ns0iQ2myTAscfaTGMqZbXJNI9Rcb2E2gg1UFMJQzbtQtjc8bmY66Udj59VF7Jt8XJDJdeggesk7vOzDFdKG46vl14Liw8AbGpboh4KWl444OWPtxPF8EMfamMESsYsnjzlP7BXn7j398gHBXhmG9a3M6PS7yw/FvE9gjFI+NPGf9USruBtcvYEguywHh2i2Y0/FyDgG9f3Yt+LWQjiv90w1gnEjP6yPARboFaXuw0y42DMvGbXuCYAZKCzkWgIuKJObiIKBNo9uASJ1nWt9B0KPDJrHAG352B4zJ3q6+bjjcQjYZ4+ann1bL0VcVU0bexhGyAoeDuyYmgos=212FD3x19z9sWBHDJACbC00B75E\"\n",
    "\n",
    "c = td.TDClient(client_id=client_id, refresh_token=refresh_token, account_ids=account_id)\n",
    "delta_est = 0.70\n",
    "\n",
    "deltal = []\n",
    "voll = []\n",
    "pricel = []\n",
    "strikel = []\n",
    "\n",
    "# for stk in on_squeeze:\n",
    "#     df = c.optionsDF(stk,contractType='CALL', strikeCount=25, includeQuotes=True, strategy='SINGLE', interval=None, strike=None, range='ALL', fromDate=\"2020-12-17\", toDate=\"2020-12-19\", volatility=None, underlyingPrice=None, interestRate=None, daysToExpiration=None, expMonth='ALL', optionType='ALL')\n",
    "\n",
    "#     narrow_df =  df[[\"strikePrice\",\"delta\",\"volatility\",\"bid\",\"ask\",\"closePrice\"]]\n",
    "#     idx = narrow_df['delta'].sub(delta_est).abs().idxmin()\n",
    "#     filtered_df = narrow_df.loc[[idx]]\n",
    "#     deltal.append(float(filtered_df[\"delta\"]))\n",
    "#     voll.append(float(filtered_df[\"volatility\"]))\n",
    "#     pricel.append(float(filtered_df[\"closePrice\"]))\n",
    "#     strikel.append(float(filtered_df[\"strikePrice\"]))"
   ]
  },
  {
   "cell_type": "code",
   "execution_count": 9,
   "metadata": {},
   "outputs": [
    {
     "output_type": "execute_result",
     "data": {
      "text/plain": [
       "Empty DataFrame\n",
       "Columns: []\n",
       "Index: [0]"
      ],
      "text/html": "<div>\n<style scoped>\n    .dataframe tbody tr th:only-of-type {\n        vertical-align: middle;\n    }\n\n    .dataframe tbody tr th {\n        vertical-align: top;\n    }\n\n    .dataframe thead th {\n        text-align: right;\n    }\n</style>\n<table border=\"1\" class=\"dataframe\">\n  <thead>\n    <tr style=\"text-align: right;\">\n      <th></th>\n    </tr>\n  </thead>\n  <tbody>\n    <tr>\n      <th>0</th>\n    </tr>\n  </tbody>\n</table>\n</div>"
     },
     "metadata": {},
     "execution_count": 9
    }
   ],
   "source": [
    "df"
   ]
  },
  {
   "cell_type": "code",
   "execution_count": 8,
   "metadata": {},
   "outputs": [
    {
     "output_type": "execute_result",
     "data": {
      "text/plain": [
       "  Ticker  Strike  Delta  Price      IV\n",
       "0    BIG    47.5  0.707   6.46  76.761\n",
       "1     DG   207.5  0.723  12.68  32.017\n",
       "2     XP    40.0  0.678   3.05  46.174\n",
       "3   ATVI    73.5  0.710   4.15  30.656\n",
       "4   PETS    30.0  0.547   1.42  43.174"
      ],
      "text/html": "<div>\n<style scoped>\n    .dataframe tbody tr th:only-of-type {\n        vertical-align: middle;\n    }\n\n    .dataframe tbody tr th {\n        vertical-align: top;\n    }\n\n    .dataframe thead th {\n        text-align: right;\n    }\n</style>\n<table border=\"1\" class=\"dataframe\">\n  <thead>\n    <tr style=\"text-align: right;\">\n      <th></th>\n      <th>Ticker</th>\n      <th>Strike</th>\n      <th>Delta</th>\n      <th>Price</th>\n      <th>IV</th>\n    </tr>\n  </thead>\n  <tbody>\n    <tr>\n      <th>0</th>\n      <td>BIG</td>\n      <td>47.5</td>\n      <td>0.707</td>\n      <td>6.46</td>\n      <td>76.761</td>\n    </tr>\n    <tr>\n      <th>1</th>\n      <td>DG</td>\n      <td>207.5</td>\n      <td>0.723</td>\n      <td>12.68</td>\n      <td>32.017</td>\n    </tr>\n    <tr>\n      <th>2</th>\n      <td>XP</td>\n      <td>40.0</td>\n      <td>0.678</td>\n      <td>3.05</td>\n      <td>46.174</td>\n    </tr>\n    <tr>\n      <th>3</th>\n      <td>ATVI</td>\n      <td>73.5</td>\n      <td>0.710</td>\n      <td>4.15</td>\n      <td>30.656</td>\n    </tr>\n    <tr>\n      <th>4</th>\n      <td>PETS</td>\n      <td>30.0</td>\n      <td>0.547</td>\n      <td>1.42</td>\n      <td>43.174</td>\n    </tr>\n  </tbody>\n</table>\n</div>"
     },
     "metadata": {},
     "execution_count": 8
    }
   ],
   "source": [
    "squeezeOpt = pd.DataFrame({\"Ticker\" : on_squeeze, \"Strike\" : strikel, \"Delta\" : deltal, \"Price\" : pricel, \"IV\" : voll})\n",
    "squeezeOpt"
   ]
  },
  {
   "source": [
    "# Options Profit Calculator"
   ],
   "cell_type": "markdown",
   "metadata": {}
  },
  {
   "cell_type": "code",
   "execution_count": 44,
   "metadata": {},
   "outputs": [],
   "source": [
    "import mibian as mb\n",
    "import requests\n",
    "from bs4 import BeautifulSoup\n",
    "\n",
    "TREASURY_URL = \"https://www.marketwatch.com/investing/bond/tmubmusd03m?countrycode=bx\"\n",
    "OVERNIGHT_RATE = 0\n",
    "\n",
    "r = requests.get(TREASURY_URL)\n",
    "soup = BeautifulSoup(r.text, 'html.parser')\n",
    "\n",
    "rfr = float(soup.find('bg-quote',{\"class\": \"value\"}).string)"
   ]
  },
  {
   "cell_type": "code",
   "execution_count": 57,
   "metadata": {},
   "outputs": [],
   "source": [
    "sim_list = []\n",
    "underlying_price = []\n",
    "\n",
    "for i in range(355,400,2):\n",
    "    underlying_price.append(i)\n",
    "    sim = mb.BS([i,float(narrow_df[\"strikePrice\"]),rfr,2],volatility=float(narrow_df[\"volatility\"]))\n",
    "    returns = (sim.callPrice - float(narrow_df[\"closePrice\"]))*100\n",
    "    sim_list.append(returns)\n",
    "    track = pd.DataFrame(\n",
    "            {\"Underlying\" : underlying_price,\n",
    "            \"Returns\" : sim_list\n",
    "            }\n",
    "    )"
   ]
  },
  {
   "cell_type": "code",
   "execution_count": 58,
   "metadata": {},
   "outputs": [],
   "source": [
    "import plotly.express as px"
   ]
  },
  {
   "cell_type": "code",
   "execution_count": 2,
   "metadata": {},
   "outputs": [],
   "source": [
    "import tdameritrade as td"
   ]
  },
  {
   "cell_type": "code",
   "execution_count": 59,
   "metadata": {},
   "outputs": [
    {
     "output_type": "display_data",
     "data": {
      "application/vnd.plotly.v1+json": {
       "config": {
        "plotlyServerURL": "https://plot.ly"
       },
       "data": [
        {
         "hovertemplate": "Underlying=%{x}<br>Returns=%{y}<extra></extra>",
         "legendgroup": "",
         "line": {
          "color": "#636efa",
          "dash": "solid"
         },
         "mode": "lines",
         "name": "",
         "orientation": "v",
         "showlegend": false,
         "type": "scatter",
         "x": [
          355,
          357,
          359,
          361,
          363,
          365,
          367,
          369,
          371,
          373,
          375,
          377,
          379,
          381,
          383,
          385,
          387,
          389,
          391,
          393,
          395,
          397,
          399
         ],
         "xaxis": "x",
         "y": [
          -974.0698811004364,
          -830.8701915461029,
          -665.387631917622,
          -484.23994001364576,
          -293.45949535301656,
          -97.4870156785073,
          100.94353621351502,
          300.39833039945734,
          500.2295040617241,
          700.1828891945934,
          900.1714054934951,
          1100.1688792365542,
          1300.168382475323,
          1500.1682950612462,
          1700.1682812794343,
          1900.168279330137,
          2100.1682790824643,
          2300.168279054162,
          2500.168279051246,
          2700.168279050979,
          2900.1682790509562,
          3100.1682790509503,
          3300.1682790509503
         ],
         "yaxis": "y"
        }
       ],
       "layout": {
        "legend": {
         "tracegroupgap": 0
        },
        "margin": {
         "t": 60
        },
        "template": {
         "data": {
          "bar": [
           {
            "error_x": {
             "color": "#2a3f5f"
            },
            "error_y": {
             "color": "#2a3f5f"
            },
            "marker": {
             "line": {
              "color": "#E5ECF6",
              "width": 0.5
             }
            },
            "type": "bar"
           }
          ],
          "barpolar": [
           {
            "marker": {
             "line": {
              "color": "#E5ECF6",
              "width": 0.5
             }
            },
            "type": "barpolar"
           }
          ],
          "carpet": [
           {
            "aaxis": {
             "endlinecolor": "#2a3f5f",
             "gridcolor": "white",
             "linecolor": "white",
             "minorgridcolor": "white",
             "startlinecolor": "#2a3f5f"
            },
            "baxis": {
             "endlinecolor": "#2a3f5f",
             "gridcolor": "white",
             "linecolor": "white",
             "minorgridcolor": "white",
             "startlinecolor": "#2a3f5f"
            },
            "type": "carpet"
           }
          ],
          "choropleth": [
           {
            "colorbar": {
             "outlinewidth": 0,
             "ticks": ""
            },
            "type": "choropleth"
           }
          ],
          "contour": [
           {
            "colorbar": {
             "outlinewidth": 0,
             "ticks": ""
            },
            "colorscale": [
             [
              0,
              "#0d0887"
             ],
             [
              0.1111111111111111,
              "#46039f"
             ],
             [
              0.2222222222222222,
              "#7201a8"
             ],
             [
              0.3333333333333333,
              "#9c179e"
             ],
             [
              0.4444444444444444,
              "#bd3786"
             ],
             [
              0.5555555555555556,
              "#d8576b"
             ],
             [
              0.6666666666666666,
              "#ed7953"
             ],
             [
              0.7777777777777778,
              "#fb9f3a"
             ],
             [
              0.8888888888888888,
              "#fdca26"
             ],
             [
              1,
              "#f0f921"
             ]
            ],
            "type": "contour"
           }
          ],
          "contourcarpet": [
           {
            "colorbar": {
             "outlinewidth": 0,
             "ticks": ""
            },
            "type": "contourcarpet"
           }
          ],
          "heatmap": [
           {
            "colorbar": {
             "outlinewidth": 0,
             "ticks": ""
            },
            "colorscale": [
             [
              0,
              "#0d0887"
             ],
             [
              0.1111111111111111,
              "#46039f"
             ],
             [
              0.2222222222222222,
              "#7201a8"
             ],
             [
              0.3333333333333333,
              "#9c179e"
             ],
             [
              0.4444444444444444,
              "#bd3786"
             ],
             [
              0.5555555555555556,
              "#d8576b"
             ],
             [
              0.6666666666666666,
              "#ed7953"
             ],
             [
              0.7777777777777778,
              "#fb9f3a"
             ],
             [
              0.8888888888888888,
              "#fdca26"
             ],
             [
              1,
              "#f0f921"
             ]
            ],
            "type": "heatmap"
           }
          ],
          "heatmapgl": [
           {
            "colorbar": {
             "outlinewidth": 0,
             "ticks": ""
            },
            "colorscale": [
             [
              0,
              "#0d0887"
             ],
             [
              0.1111111111111111,
              "#46039f"
             ],
             [
              0.2222222222222222,
              "#7201a8"
             ],
             [
              0.3333333333333333,
              "#9c179e"
             ],
             [
              0.4444444444444444,
              "#bd3786"
             ],
             [
              0.5555555555555556,
              "#d8576b"
             ],
             [
              0.6666666666666666,
              "#ed7953"
             ],
             [
              0.7777777777777778,
              "#fb9f3a"
             ],
             [
              0.8888888888888888,
              "#fdca26"
             ],
             [
              1,
              "#f0f921"
             ]
            ],
            "type": "heatmapgl"
           }
          ],
          "histogram": [
           {
            "marker": {
             "colorbar": {
              "outlinewidth": 0,
              "ticks": ""
             }
            },
            "type": "histogram"
           }
          ],
          "histogram2d": [
           {
            "colorbar": {
             "outlinewidth": 0,
             "ticks": ""
            },
            "colorscale": [
             [
              0,
              "#0d0887"
             ],
             [
              0.1111111111111111,
              "#46039f"
             ],
             [
              0.2222222222222222,
              "#7201a8"
             ],
             [
              0.3333333333333333,
              "#9c179e"
             ],
             [
              0.4444444444444444,
              "#bd3786"
             ],
             [
              0.5555555555555556,
              "#d8576b"
             ],
             [
              0.6666666666666666,
              "#ed7953"
             ],
             [
              0.7777777777777778,
              "#fb9f3a"
             ],
             [
              0.8888888888888888,
              "#fdca26"
             ],
             [
              1,
              "#f0f921"
             ]
            ],
            "type": "histogram2d"
           }
          ],
          "histogram2dcontour": [
           {
            "colorbar": {
             "outlinewidth": 0,
             "ticks": ""
            },
            "colorscale": [
             [
              0,
              "#0d0887"
             ],
             [
              0.1111111111111111,
              "#46039f"
             ],
             [
              0.2222222222222222,
              "#7201a8"
             ],
             [
              0.3333333333333333,
              "#9c179e"
             ],
             [
              0.4444444444444444,
              "#bd3786"
             ],
             [
              0.5555555555555556,
              "#d8576b"
             ],
             [
              0.6666666666666666,
              "#ed7953"
             ],
             [
              0.7777777777777778,
              "#fb9f3a"
             ],
             [
              0.8888888888888888,
              "#fdca26"
             ],
             [
              1,
              "#f0f921"
             ]
            ],
            "type": "histogram2dcontour"
           }
          ],
          "mesh3d": [
           {
            "colorbar": {
             "outlinewidth": 0,
             "ticks": ""
            },
            "type": "mesh3d"
           }
          ],
          "parcoords": [
           {
            "line": {
             "colorbar": {
              "outlinewidth": 0,
              "ticks": ""
             }
            },
            "type": "parcoords"
           }
          ],
          "pie": [
           {
            "automargin": true,
            "type": "pie"
           }
          ],
          "scatter": [
           {
            "marker": {
             "colorbar": {
              "outlinewidth": 0,
              "ticks": ""
             }
            },
            "type": "scatter"
           }
          ],
          "scatter3d": [
           {
            "line": {
             "colorbar": {
              "outlinewidth": 0,
              "ticks": ""
             }
            },
            "marker": {
             "colorbar": {
              "outlinewidth": 0,
              "ticks": ""
             }
            },
            "type": "scatter3d"
           }
          ],
          "scattercarpet": [
           {
            "marker": {
             "colorbar": {
              "outlinewidth": 0,
              "ticks": ""
             }
            },
            "type": "scattercarpet"
           }
          ],
          "scattergeo": [
           {
            "marker": {
             "colorbar": {
              "outlinewidth": 0,
              "ticks": ""
             }
            },
            "type": "scattergeo"
           }
          ],
          "scattergl": [
           {
            "marker": {
             "colorbar": {
              "outlinewidth": 0,
              "ticks": ""
             }
            },
            "type": "scattergl"
           }
          ],
          "scattermapbox": [
           {
            "marker": {
             "colorbar": {
              "outlinewidth": 0,
              "ticks": ""
             }
            },
            "type": "scattermapbox"
           }
          ],
          "scatterpolar": [
           {
            "marker": {
             "colorbar": {
              "outlinewidth": 0,
              "ticks": ""
             }
            },
            "type": "scatterpolar"
           }
          ],
          "scatterpolargl": [
           {
            "marker": {
             "colorbar": {
              "outlinewidth": 0,
              "ticks": ""
             }
            },
            "type": "scatterpolargl"
           }
          ],
          "scatterternary": [
           {
            "marker": {
             "colorbar": {
              "outlinewidth": 0,
              "ticks": ""
             }
            },
            "type": "scatterternary"
           }
          ],
          "surface": [
           {
            "colorbar": {
             "outlinewidth": 0,
             "ticks": ""
            },
            "colorscale": [
             [
              0,
              "#0d0887"
             ],
             [
              0.1111111111111111,
              "#46039f"
             ],
             [
              0.2222222222222222,
              "#7201a8"
             ],
             [
              0.3333333333333333,
              "#9c179e"
             ],
             [
              0.4444444444444444,
              "#bd3786"
             ],
             [
              0.5555555555555556,
              "#d8576b"
             ],
             [
              0.6666666666666666,
              "#ed7953"
             ],
             [
              0.7777777777777778,
              "#fb9f3a"
             ],
             [
              0.8888888888888888,
              "#fdca26"
             ],
             [
              1,
              "#f0f921"
             ]
            ],
            "type": "surface"
           }
          ],
          "table": [
           {
            "cells": {
             "fill": {
              "color": "#EBF0F8"
             },
             "line": {
              "color": "white"
             }
            },
            "header": {
             "fill": {
              "color": "#C8D4E3"
             },
             "line": {
              "color": "white"
             }
            },
            "type": "table"
           }
          ]
         },
         "layout": {
          "annotationdefaults": {
           "arrowcolor": "#2a3f5f",
           "arrowhead": 0,
           "arrowwidth": 1
          },
          "coloraxis": {
           "colorbar": {
            "outlinewidth": 0,
            "ticks": ""
           }
          },
          "colorscale": {
           "diverging": [
            [
             0,
             "#8e0152"
            ],
            [
             0.1,
             "#c51b7d"
            ],
            [
             0.2,
             "#de77ae"
            ],
            [
             0.3,
             "#f1b6da"
            ],
            [
             0.4,
             "#fde0ef"
            ],
            [
             0.5,
             "#f7f7f7"
            ],
            [
             0.6,
             "#e6f5d0"
            ],
            [
             0.7,
             "#b8e186"
            ],
            [
             0.8,
             "#7fbc41"
            ],
            [
             0.9,
             "#4d9221"
            ],
            [
             1,
             "#276419"
            ]
           ],
           "sequential": [
            [
             0,
             "#0d0887"
            ],
            [
             0.1111111111111111,
             "#46039f"
            ],
            [
             0.2222222222222222,
             "#7201a8"
            ],
            [
             0.3333333333333333,
             "#9c179e"
            ],
            [
             0.4444444444444444,
             "#bd3786"
            ],
            [
             0.5555555555555556,
             "#d8576b"
            ],
            [
             0.6666666666666666,
             "#ed7953"
            ],
            [
             0.7777777777777778,
             "#fb9f3a"
            ],
            [
             0.8888888888888888,
             "#fdca26"
            ],
            [
             1,
             "#f0f921"
            ]
           ],
           "sequentialminus": [
            [
             0,
             "#0d0887"
            ],
            [
             0.1111111111111111,
             "#46039f"
            ],
            [
             0.2222222222222222,
             "#7201a8"
            ],
            [
             0.3333333333333333,
             "#9c179e"
            ],
            [
             0.4444444444444444,
             "#bd3786"
            ],
            [
             0.5555555555555556,
             "#d8576b"
            ],
            [
             0.6666666666666666,
             "#ed7953"
            ],
            [
             0.7777777777777778,
             "#fb9f3a"
            ],
            [
             0.8888888888888888,
             "#fdca26"
            ],
            [
             1,
             "#f0f921"
            ]
           ]
          },
          "colorway": [
           "#636efa",
           "#EF553B",
           "#00cc96",
           "#ab63fa",
           "#FFA15A",
           "#19d3f3",
           "#FF6692",
           "#B6E880",
           "#FF97FF",
           "#FECB52"
          ],
          "font": {
           "color": "#2a3f5f"
          },
          "geo": {
           "bgcolor": "white",
           "lakecolor": "white",
           "landcolor": "#E5ECF6",
           "showlakes": true,
           "showland": true,
           "subunitcolor": "white"
          },
          "hoverlabel": {
           "align": "left"
          },
          "hovermode": "closest",
          "mapbox": {
           "style": "light"
          },
          "paper_bgcolor": "white",
          "plot_bgcolor": "#E5ECF6",
          "polar": {
           "angularaxis": {
            "gridcolor": "white",
            "linecolor": "white",
            "ticks": ""
           },
           "bgcolor": "#E5ECF6",
           "radialaxis": {
            "gridcolor": "white",
            "linecolor": "white",
            "ticks": ""
           }
          },
          "scene": {
           "xaxis": {
            "backgroundcolor": "#E5ECF6",
            "gridcolor": "white",
            "gridwidth": 2,
            "linecolor": "white",
            "showbackground": true,
            "ticks": "",
            "zerolinecolor": "white"
           },
           "yaxis": {
            "backgroundcolor": "#E5ECF6",
            "gridcolor": "white",
            "gridwidth": 2,
            "linecolor": "white",
            "showbackground": true,
            "ticks": "",
            "zerolinecolor": "white"
           },
           "zaxis": {
            "backgroundcolor": "#E5ECF6",
            "gridcolor": "white",
            "gridwidth": 2,
            "linecolor": "white",
            "showbackground": true,
            "ticks": "",
            "zerolinecolor": "white"
           }
          },
          "shapedefaults": {
           "line": {
            "color": "#2a3f5f"
           }
          },
          "ternary": {
           "aaxis": {
            "gridcolor": "white",
            "linecolor": "white",
            "ticks": ""
           },
           "baxis": {
            "gridcolor": "white",
            "linecolor": "white",
            "ticks": ""
           },
           "bgcolor": "#E5ECF6",
           "caxis": {
            "gridcolor": "white",
            "linecolor": "white",
            "ticks": ""
           }
          },
          "title": {
           "x": 0.05
          },
          "xaxis": {
           "automargin": true,
           "gridcolor": "white",
           "linecolor": "white",
           "ticks": "",
           "title": {
            "standoff": 15
           },
           "zerolinecolor": "white",
           "zerolinewidth": 2
          },
          "yaxis": {
           "automargin": true,
           "gridcolor": "white",
           "linecolor": "white",
           "ticks": "",
           "title": {
            "standoff": 15
           },
           "zerolinecolor": "white",
           "zerolinewidth": 2
          }
         }
        },
        "xaxis": {
         "anchor": "y",
         "domain": [
          0,
          1
         ],
         "title": {
          "text": "Underlying"
         }
        },
        "yaxis": {
         "anchor": "x",
         "domain": [
          0,
          1
         ],
         "title": {
          "text": "Returns"
         }
        }
       }
      }
     },
     "metadata": {}
    }
   ],
   "source": [
    "px.line(track, x=\"Underlying\", y=\"Returns\")"
   ]
  },
  {
   "cell_type": "code",
   "execution_count": 67,
   "metadata": {},
   "outputs": [],
   "source": []
  }
 ]
}